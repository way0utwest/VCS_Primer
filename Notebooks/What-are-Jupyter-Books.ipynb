{
    "metadata": {
        "kernelspec": {
            "name": "powershell",
            "display_name": "PowerShell"
        },
        "language_info": {
            "name": "powershell",
            "codemirror_mode": "shell",
            "mimetype": "text/x-sh",
            "file_extension": ".ps1"
        }
    },
    "nbformat_minor": 2,
    "nbformat": 4,
    "cells": [
        {
            "cell_type": "markdown",
            "source": [
                "# What are Jupyter Books?\n",
                "\n",
                "Jupyter Books are simply a collection of Jupyter Notebooks, with a dedicated Table of Contents file (TOC.YML)\n",
                "\n",
                "They're really easy to use.  In fact, you're reading from one right now 🙂"
            ],
            "metadata": {
                "azdata_cell_guid": "aa39f306-fea4-4e42-b695-831259791536"
            }
        }
    ]
}