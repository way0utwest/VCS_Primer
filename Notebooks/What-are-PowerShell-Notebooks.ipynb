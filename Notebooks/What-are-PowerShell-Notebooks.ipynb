{
    "metadata": {
        "kernelspec": {
            "name": "powershell",
            "display_name": "PowerShell"
        },
        "language_info": {
            "name": "powershell",
            "codemirror_mode": "shell",
            "mimetype": "text/x-sh",
            "file_extension": ".ps1"
        }
    },
    "nbformat_minor": 2,
    "nbformat": 4,
    "cells": [
        {
            "cell_type": "markdown",
            "source": [
                "# PowerShell Notebooks can come in two varieties, because there are two PowerShell kernels\n",
                "\n",
                "### PowerShell\n",
                "\n",
                "The `PowerShell` kernel was originally written by Sergei Vorobev and is an open source project: [https://github.com/vors/jupyter-powershell](https://github.com/vors/jupyter-powershell \"https://github.com/vors/jupyter-powershell\")\n",
                "\n",
                "-   When running the `PowerShell` kernel on Windows, it will run Windows PowerShel 5.1\n",
                "-   When running the `PowerShell` kernel on macOS or Linux, it will run PowerShell\n",
                "\n",
                "The `PowerShell` kernel has some limitations to interactivity. You can't do things like `Read-Host` but you can do things like `Get-Credential` and `Out-GridView ... -PassThru` when running the Notebook.\n",
                "\n",
                "### .NET (PowerShell)\n",
                "\n",
                "There is also `.NET (PowerShell)` from the /dotnet repo. Also, amd open source project: [https://github.com/dotnet/interactive#net-interactive-](https://github.com/dotnet/interactive#net-interactive- \"https://github.com/dotnet/interactive#net-interactive-\")\n",
                "\n",
                "-   The `.NET (PowerShell)` kernel will run PowerShell 7 whether you're on Windows, macOS, or Linux.\n",
                "\n",
                "`.NET (PowerShell)` does work with things like `Read-Host`, and has an in-line way of working with `Get-Credentail`.\n",
                "\n",
                "[Installation instructions](https://github.com/dotnet/interactive/blob/main/docs/NotebooksLocalExperience.md \"https://github.com/dotnet/interactive/blob/main/docs/NotebooksLocalExperience.md\")"
            ],
            "metadata": {
                "azdata_cell_guid": "1c6bd457-5a35-4818-96d8-9f79db10f64a"
            }
        },
        {
            "cell_type": "code",
            "source": [
                "Get-PSDrive"
            ],
            "metadata": {
                "azdata_cell_guid": "39055276-6796-41be-a276-68e41fe9ddd2"
            },
            "outputs": [
                {
                    "name": "stdout",
                    "text": "\nName           Used (GB)     Free (GB) Provider      Root                                               CurrentLocation\n----           ---------     --------- --------      ----                                               ---------------\nAlias                                  Alias                                                                           \nC                 893.75         58.79 FileSystem    C:\\                                                    Users\\AaronNelson-SQLvariant\nCert                                   Certificate   \\                                                                 \nD                   0.68        182.64 FileSystem    D:\\                                                               \nE                                      FileSystem    E:\\                                                               \nEnv                                    Environment                                                                     \nF                                      FileSystem    F:\\                                                               \nFunction                               Function                                                                        \nHKCU                                   Registry      HKEY_CURRENT_USER                                                 \nHKLM                                   Registry      HKEY_LOCAL_MACHINE                                                \nVariable                               Variable                                                                        \nWSMan                                  WSMan                                                                           \n\n\n",
                    "output_type": "stream"
                }
            ],
            "execution_count": 3
        }
    ]
}