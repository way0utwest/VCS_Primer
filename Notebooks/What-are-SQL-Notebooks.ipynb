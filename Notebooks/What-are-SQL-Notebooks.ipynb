{
    "metadata": {
        "kernelspec": {
            "name": "SQL",
            "display_name": "SQL",
            "language": "sql"
        },
        "language_info": {
            "name": "sql",
            "version": ""
        }
    },
    "nbformat_minor": 2,
    "nbformat": 4,
    "cells": [
        {
            "cell_type": "markdown",
            "source": [
                "# SQL Notebooks are just a Jupyter Notebook running the SQL kernel\n",
                "\n",
                "The SQL Tools team has already produced several videos showing how to use SQL Notebooks, so I'll link to those videos and dive straight into using them.\n",
                "\n",
                "Unlike PowerShell Notebooks which default to running locally wherever you execute them, SQL Notebooks need to be connected to a SQL Server before you can start running them."
            ],
            "metadata": {
                "azdata_cell_guid": "34a6c776-9092-45c4-9b3e-97b45cdca627"
            }
        },
        {
            "cell_type": "code",
            "source": [
                "SELECT SYSDATETIME()"
            ],
            "metadata": {
                "azdata_cell_guid": "8dfe9c7a-5b5c-4ceb-a236-976a0631b59e"
            },
            "outputs": [
                {
                    "output_type": "display_data",
                    "data": {
                        "text/html": "(1 row affected)"
                    },
                    "metadata": {}
                },
                {
                    "output_type": "display_data",
                    "data": {
                        "text/html": "Total execution time: 00:00:00.047"
                    },
                    "metadata": {}
                },
                {
                    "output_type": "execute_result",
                    "metadata": {},
                    "execution_count": 2,
                    "data": {
                        "application/vnd.dataresource+json": {
                            "schema": {
                                "fields": [
                                    {
                                        "name": "(No column name)"
                                    }
                                ]
                            },
                            "data": [
                                {
                                    "0": "2020-09-16 11:22:07.0420948"
                                }
                            ]
                        },
                        "text/html": [
                            "<table>",
                            "<tr><th>(No column name)</th></tr>",
                            "<tr><td>2020-09-16 11:22:07.0420948</td></tr>",
                            "</table>"
                        ]
                    }
                }
            ],
            "execution_count": 2
        },
        {
            "cell_type": "code",
            "source": [
                "SELECT *\r\n",
                "  FROM sys.databases"
            ],
            "metadata": {
                "azdata_cell_guid": "20214066-1484-42ac-ae41-81ddecbdd00c"
            },
            "outputs": [
                {
                    "output_type": "display_data",
                    "data": {
                        "text/html": "(6 rows affected)"
                    },
                    "metadata": {}
                },
                {
                    "output_type": "display_data",
                    "data": {
                        "text/html": "Total execution time: 00:00:00.067"
                    },
                    "metadata": {}
                },
                {
                    "output_type": "execute_result",
                    "metadata": {},
                    "execution_count": 3,
                    "data": {
                        "application/vnd.dataresource+json": {
                            "schema": {
                                "fields": [
                                    {
                                        "name": "name"
                                    },
                                    {
                                        "name": "database_id"
                                    },
                                    {
                                        "name": "source_database_id"
                                    },
                                    {
                                        "name": "owner_sid"
                                    },
                                    {
                                        "name": "create_date"
                                    },
                                    {
                                        "name": "compatibility_level"
                                    },
                                    {
                                        "name": "collation_name"
                                    },
                                    {
                                        "name": "user_access"
                                    },
                                    {
                                        "name": "user_access_desc"
                                    },
                                    {
                                        "name": "is_read_only"
                                    },
                                    {
                                        "name": "is_auto_close_on"
                                    },
                                    {
                                        "name": "is_auto_shrink_on"
                                    },
                                    {
                                        "name": "state"
                                    },
                                    {
                                        "name": "state_desc"
                                    },
                                    {
                                        "name": "is_in_standby"
                                    },
                                    {
                                        "name": "is_cleanly_shutdown"
                                    },
                                    {
                                        "name": "is_supplemental_logging_enabled"
                                    },
                                    {
                                        "name": "snapshot_isolation_state"
                                    },
                                    {
                                        "name": "snapshot_isolation_state_desc"
                                    },
                                    {
                                        "name": "is_read_committed_snapshot_on"
                                    },
                                    {
                                        "name": "recovery_model"
                                    },
                                    {
                                        "name": "recovery_model_desc"
                                    },
                                    {
                                        "name": "page_verify_option"
                                    },
                                    {
                                        "name": "page_verify_option_desc"
                                    },
                                    {
                                        "name": "is_auto_create_stats_on"
                                    },
                                    {
                                        "name": "is_auto_create_stats_incremental_on"
                                    },
                                    {
                                        "name": "is_auto_update_stats_on"
                                    },
                                    {
                                        "name": "is_auto_update_stats_async_on"
                                    },
                                    {
                                        "name": "is_ansi_null_default_on"
                                    },
                                    {
                                        "name": "is_ansi_nulls_on"
                                    },
                                    {
                                        "name": "is_ansi_padding_on"
                                    },
                                    {
                                        "name": "is_ansi_warnings_on"
                                    },
                                    {
                                        "name": "is_arithabort_on"
                                    },
                                    {
                                        "name": "is_concat_null_yields_null_on"
                                    },
                                    {
                                        "name": "is_numeric_roundabort_on"
                                    },
                                    {
                                        "name": "is_quoted_identifier_on"
                                    },
                                    {
                                        "name": "is_recursive_triggers_on"
                                    },
                                    {
                                        "name": "is_cursor_close_on_commit_on"
                                    },
                                    {
                                        "name": "is_local_cursor_default"
                                    },
                                    {
                                        "name": "is_fulltext_enabled"
                                    },
                                    {
                                        "name": "is_trustworthy_on"
                                    },
                                    {
                                        "name": "is_db_chaining_on"
                                    },
                                    {
                                        "name": "is_parameterization_forced"
                                    },
                                    {
                                        "name": "is_master_key_encrypted_by_server"
                                    },
                                    {
                                        "name": "is_query_store_on"
                                    },
                                    {
                                        "name": "is_published"
                                    },
                                    {
                                        "name": "is_subscribed"
                                    },
                                    {
                                        "name": "is_merge_published"
                                    },
                                    {
                                        "name": "is_distributor"
                                    },
                                    {
                                        "name": "is_sync_with_backup"
                                    },
                                    {
                                        "name": "service_broker_guid"
                                    },
                                    {
                                        "name": "is_broker_enabled"
                                    },
                                    {
                                        "name": "log_reuse_wait"
                                    },
                                    {
                                        "name": "log_reuse_wait_desc"
                                    },
                                    {
                                        "name": "is_date_correlation_on"
                                    },
                                    {
                                        "name": "is_cdc_enabled"
                                    },
                                    {
                                        "name": "is_encrypted"
                                    },
                                    {
                                        "name": "is_honor_broker_priority_on"
                                    },
                                    {
                                        "name": "replica_id"
                                    },
                                    {
                                        "name": "group_database_id"
                                    },
                                    {
                                        "name": "resource_pool_id"
                                    },
                                    {
                                        "name": "default_language_lcid"
                                    },
                                    {
                                        "name": "default_language_name"
                                    },
                                    {
                                        "name": "default_fulltext_language_lcid"
                                    },
                                    {
                                        "name": "default_fulltext_language_name"
                                    },
                                    {
                                        "name": "is_nested_triggers_on"
                                    },
                                    {
                                        "name": "is_transform_noise_words_on"
                                    },
                                    {
                                        "name": "two_digit_year_cutoff"
                                    },
                                    {
                                        "name": "containment"
                                    },
                                    {
                                        "name": "containment_desc"
                                    },
                                    {
                                        "name": "target_recovery_time_in_seconds"
                                    },
                                    {
                                        "name": "delayed_durability"
                                    },
                                    {
                                        "name": "delayed_durability_desc"
                                    },
                                    {
                                        "name": "is_memory_optimized_elevate_to_snapshot_on"
                                    },
                                    {
                                        "name": "is_federation_member"
                                    },
                                    {
                                        "name": "is_remote_data_archive_enabled"
                                    },
                                    {
                                        "name": "is_mixed_page_allocation_on"
                                    },
                                    {
                                        "name": "is_temporal_history_retention_enabled"
                                    },
                                    {
                                        "name": "catalog_collation_type"
                                    },
                                    {
                                        "name": "catalog_collation_type_desc"
                                    },
                                    {
                                        "name": "physical_database_name"
                                    },
                                    {
                                        "name": "is_result_set_caching_on"
                                    },
                                    {
                                        "name": "is_accelerated_database_recovery_on"
                                    },
                                    {
                                        "name": "is_tempdb_spill_to_remote_store"
                                    },
                                    {
                                        "name": "is_stale_page_detection_on"
                                    },
                                    {
                                        "name": "is_memory_optimized_enabled"
                                    }
                                ]
                            },
                            "data": [
                                {
                                    "0": "master",
                                    "1": "1",
                                    "2": "NULL",
                                    "3": "0x01",
                                    "4": "2003-04-08 09:13:36.390",
                                    "5": "150",
                                    "6": "SQL_Latin1_General_CP1_CI_AS",
                                    "7": "0",
                                    "8": "MULTI_USER",
                                    "9": "0",
                                    "10": "0",
                                    "11": "0",
                                    "12": "0",
                                    "13": "ONLINE",
                                    "14": "0",
                                    "15": "0",
                                    "16": "0",
                                    "17": "1",
                                    "18": "ON",
                                    "19": "0",
                                    "20": "3",
                                    "21": "SIMPLE",
                                    "22": "2",
                                    "23": "CHECKSUM",
                                    "24": "1",
                                    "25": "0",
                                    "26": "1",
                                    "27": "0",
                                    "28": "0",
                                    "29": "0",
                                    "30": "0",
                                    "31": "0",
                                    "32": "0",
                                    "33": "0",
                                    "34": "0",
                                    "35": "0",
                                    "36": "0",
                                    "37": "0",
                                    "38": "0",
                                    "39": "0",
                                    "40": "0",
                                    "41": "1",
                                    "42": "0",
                                    "43": "0",
                                    "44": "0",
                                    "45": "0",
                                    "46": "0",
                                    "47": "0",
                                    "48": "0",
                                    "49": "0",
                                    "50": "00000000-0000-0000-0000-000000000000",
                                    "51": "0",
                                    "52": "0",
                                    "53": "NOTHING",
                                    "54": "0",
                                    "55": "0",
                                    "56": "0",
                                    "57": "0",
                                    "58": "NULL",
                                    "59": "NULL",
                                    "60": "NULL",
                                    "61": "NULL",
                                    "62": "NULL",
                                    "63": "NULL",
                                    "64": "NULL",
                                    "65": "NULL",
                                    "66": "NULL",
                                    "67": "NULL",
                                    "68": "0",
                                    "69": "NONE",
                                    "70": "0",
                                    "71": "0",
                                    "72": "DISABLED",
                                    "73": "0",
                                    "74": "0",
                                    "75": "0",
                                    "76": "1",
                                    "77": "1",
                                    "78": "0",
                                    "79": "DATABASE_DEFAULT",
                                    "80": "master",
                                    "81": "0",
                                    "82": "0",
                                    "83": "0",
                                    "84": "0",
                                    "85": "1"
                                },
                                {
                                    "0": "tempdb",
                                    "1": "2",
                                    "2": "NULL",
                                    "3": "0x01",
                                    "4": "2020-09-15 11:41:07.600",
                                    "5": "150",
                                    "6": "SQL_Latin1_General_CP1_CI_AS",
                                    "7": "0",
                                    "8": "MULTI_USER",
                                    "9": "0",
                                    "10": "0",
                                    "11": "0",
                                    "12": "0",
                                    "13": "ONLINE",
                                    "14": "0",
                                    "15": "0",
                                    "16": "0",
                                    "17": "0",
                                    "18": "OFF",
                                    "19": "0",
                                    "20": "3",
                                    "21": "SIMPLE",
                                    "22": "2",
                                    "23": "CHECKSUM",
                                    "24": "1",
                                    "25": "0",
                                    "26": "1",
                                    "27": "0",
                                    "28": "0",
                                    "29": "0",
                                    "30": "0",
                                    "31": "0",
                                    "32": "0",
                                    "33": "0",
                                    "34": "0",
                                    "35": "0",
                                    "36": "0",
                                    "37": "0",
                                    "38": "0",
                                    "39": "0",
                                    "40": "0",
                                    "41": "1",
                                    "42": "0",
                                    "43": "0",
                                    "44": "0",
                                    "45": "0",
                                    "46": "0",
                                    "47": "0",
                                    "48": "0",
                                    "49": "0",
                                    "50": "c8b9e896-b641-46e6-8b0e-6d16e7a63aaa",
                                    "51": "1",
                                    "52": "0",
                                    "53": "NOTHING",
                                    "54": "0",
                                    "55": "0",
                                    "56": "0",
                                    "57": "0",
                                    "58": "NULL",
                                    "59": "NULL",
                                    "60": "NULL",
                                    "61": "NULL",
                                    "62": "NULL",
                                    "63": "NULL",
                                    "64": "NULL",
                                    "65": "NULL",
                                    "66": "NULL",
                                    "67": "NULL",
                                    "68": "0",
                                    "69": "NONE",
                                    "70": "60",
                                    "71": "0",
                                    "72": "DISABLED",
                                    "73": "0",
                                    "74": "0",
                                    "75": "0",
                                    "76": "0",
                                    "77": "1",
                                    "78": "0",
                                    "79": "DATABASE_DEFAULT",
                                    "80": "tempdb",
                                    "81": "0",
                                    "82": "0",
                                    "83": "0",
                                    "84": "0",
                                    "85": "1"
                                },
                                {
                                    "0": "model",
                                    "1": "3",
                                    "2": "NULL",
                                    "3": "0x01",
                                    "4": "2003-04-08 09:13:36.390",
                                    "5": "150",
                                    "6": "SQL_Latin1_General_CP1_CI_AS",
                                    "7": "0",
                                    "8": "MULTI_USER",
                                    "9": "0",
                                    "10": "0",
                                    "11": "0",
                                    "12": "0",
                                    "13": "ONLINE",
                                    "14": "0",
                                    "15": "0",
                                    "16": "0",
                                    "17": "0",
                                    "18": "OFF",
                                    "19": "0",
                                    "20": "1",
                                    "21": "FULL",
                                    "22": "2",
                                    "23": "CHECKSUM",
                                    "24": "1",
                                    "25": "0",
                                    "26": "1",
                                    "27": "0",
                                    "28": "0",
                                    "29": "0",
                                    "30": "0",
                                    "31": "0",
                                    "32": "0",
                                    "33": "0",
                                    "34": "0",
                                    "35": "0",
                                    "36": "0",
                                    "37": "0",
                                    "38": "0",
                                    "39": "0",
                                    "40": "0",
                                    "41": "0",
                                    "42": "0",
                                    "43": "0",
                                    "44": "0",
                                    "45": "0",
                                    "46": "0",
                                    "47": "0",
                                    "48": "0",
                                    "49": "0",
                                    "50": "00000000-0000-0000-0000-000000000000",
                                    "51": "0",
                                    "52": "0",
                                    "53": "NOTHING",
                                    "54": "0",
                                    "55": "0",
                                    "56": "0",
                                    "57": "0",
                                    "58": "NULL",
                                    "59": "NULL",
                                    "60": "NULL",
                                    "61": "NULL",
                                    "62": "NULL",
                                    "63": "NULL",
                                    "64": "NULL",
                                    "65": "NULL",
                                    "66": "NULL",
                                    "67": "NULL",
                                    "68": "0",
                                    "69": "NONE",
                                    "70": "60",
                                    "71": "0",
                                    "72": "DISABLED",
                                    "73": "0",
                                    "74": "0",
                                    "75": "0",
                                    "76": "1",
                                    "77": "1",
                                    "78": "0",
                                    "79": "DATABASE_DEFAULT",
                                    "80": "model",
                                    "81": "0",
                                    "82": "0",
                                    "83": "0",
                                    "84": "0",
                                    "85": "1"
                                },
                                {
                                    "0": "msdb",
                                    "1": "4",
                                    "2": "NULL",
                                    "3": "0x01",
                                    "4": "2019-09-24 14:21:42.270",
                                    "5": "150",
                                    "6": "SQL_Latin1_General_CP1_CI_AS",
                                    "7": "0",
                                    "8": "MULTI_USER",
                                    "9": "0",
                                    "10": "0",
                                    "11": "0",
                                    "12": "0",
                                    "13": "ONLINE",
                                    "14": "0",
                                    "15": "0",
                                    "16": "0",
                                    "17": "1",
                                    "18": "ON",
                                    "19": "0",
                                    "20": "3",
                                    "21": "SIMPLE",
                                    "22": "2",
                                    "23": "CHECKSUM",
                                    "24": "1",
                                    "25": "0",
                                    "26": "1",
                                    "27": "0",
                                    "28": "0",
                                    "29": "0",
                                    "30": "0",
                                    "31": "0",
                                    "32": "0",
                                    "33": "0",
                                    "34": "0",
                                    "35": "0",
                                    "36": "0",
                                    "37": "0",
                                    "38": "0",
                                    "39": "1",
                                    "40": "1",
                                    "41": "1",
                                    "42": "0",
                                    "43": "0",
                                    "44": "0",
                                    "45": "0",
                                    "46": "0",
                                    "47": "0",
                                    "48": "0",
                                    "49": "0",
                                    "50": "4a99f69e-09bf-44e2-bb4c-23469a26b373",
                                    "51": "1",
                                    "52": "0",
                                    "53": "NOTHING",
                                    "54": "0",
                                    "55": "0",
                                    "56": "0",
                                    "57": "0",
                                    "58": "NULL",
                                    "59": "NULL",
                                    "60": "NULL",
                                    "61": "NULL",
                                    "62": "NULL",
                                    "63": "NULL",
                                    "64": "NULL",
                                    "65": "NULL",
                                    "66": "NULL",
                                    "67": "NULL",
                                    "68": "0",
                                    "69": "NONE",
                                    "70": "60",
                                    "71": "0",
                                    "72": "DISABLED",
                                    "73": "0",
                                    "74": "0",
                                    "75": "0",
                                    "76": "1",
                                    "77": "1",
                                    "78": "0",
                                    "79": "DATABASE_DEFAULT",
                                    "80": "msdb",
                                    "81": "0",
                                    "82": "0",
                                    "83": "0",
                                    "84": "0",
                                    "85": "1"
                                },
                                {
                                    "0": "ReportServer",
                                    "1": "5",
                                    "2": "NULL",
                                    "3": "0x010500000000000515000000E5BB5557A243F93D35EFE192E9030000",
                                    "4": "2020-09-10 09:06:29.050",
                                    "5": "150",
                                    "6": "Latin1_General_100_CI_AS_KS_WS",
                                    "7": "0",
                                    "8": "MULTI_USER",
                                    "9": "0",
                                    "10": "0",
                                    "11": "0",
                                    "12": "0",
                                    "13": "ONLINE",
                                    "14": "0",
                                    "15": "0",
                                    "16": "0",
                                    "17": "0",
                                    "18": "OFF",
                                    "19": "0",
                                    "20": "1",
                                    "21": "FULL",
                                    "22": "2",
                                    "23": "CHECKSUM",
                                    "24": "1",
                                    "25": "0",
                                    "26": "1",
                                    "27": "0",
                                    "28": "0",
                                    "29": "0",
                                    "30": "0",
                                    "31": "0",
                                    "32": "0",
                                    "33": "0",
                                    "34": "0",
                                    "35": "0",
                                    "36": "0",
                                    "37": "0",
                                    "38": "0",
                                    "39": "1",
                                    "40": "0",
                                    "41": "0",
                                    "42": "0",
                                    "43": "0",
                                    "44": "0",
                                    "45": "0",
                                    "46": "0",
                                    "47": "0",
                                    "48": "0",
                                    "49": "0",
                                    "50": "72db2f0f-b4d7-49f1-95c8-d392398251c7",
                                    "51": "1",
                                    "52": "0",
                                    "53": "NOTHING",
                                    "54": "0",
                                    "55": "0",
                                    "56": "0",
                                    "57": "0",
                                    "58": "NULL",
                                    "59": "NULL",
                                    "60": "NULL",
                                    "61": "NULL",
                                    "62": "NULL",
                                    "63": "NULL",
                                    "64": "NULL",
                                    "65": "NULL",
                                    "66": "NULL",
                                    "67": "NULL",
                                    "68": "0",
                                    "69": "NONE",
                                    "70": "60",
                                    "71": "0",
                                    "72": "DISABLED",
                                    "73": "0",
                                    "74": "0",
                                    "75": "0",
                                    "76": "0",
                                    "77": "1",
                                    "78": "0",
                                    "79": "DATABASE_DEFAULT",
                                    "80": "ReportServer",
                                    "81": "0",
                                    "82": "0",
                                    "83": "0",
                                    "84": "0",
                                    "85": "1"
                                },
                                {
                                    "0": "ReportServerTempDB",
                                    "1": "6",
                                    "2": "NULL",
                                    "3": "0x010500000000000515000000E5BB5557A243F93D35EFE192E9030000",
                                    "4": "2020-09-10 09:06:29.533",
                                    "5": "150",
                                    "6": "Latin1_General_100_CI_AS_KS_WS",
                                    "7": "0",
                                    "8": "MULTI_USER",
                                    "9": "0",
                                    "10": "0",
                                    "11": "0",
                                    "12": "0",
                                    "13": "ONLINE",
                                    "14": "0",
                                    "15": "1",
                                    "16": "0",
                                    "17": "0",
                                    "18": "OFF",
                                    "19": "0",
                                    "20": "3",
                                    "21": "SIMPLE",
                                    "22": "2",
                                    "23": "CHECKSUM",
                                    "24": "1",
                                    "25": "0",
                                    "26": "1",
                                    "27": "0",
                                    "28": "0",
                                    "29": "0",
                                    "30": "0",
                                    "31": "0",
                                    "32": "0",
                                    "33": "0",
                                    "34": "0",
                                    "35": "0",
                                    "36": "0",
                                    "37": "0",
                                    "38": "0",
                                    "39": "1",
                                    "40": "0",
                                    "41": "0",
                                    "42": "0",
                                    "43": "0",
                                    "44": "0",
                                    "45": "0",
                                    "46": "0",
                                    "47": "0",
                                    "48": "0",
                                    "49": "0",
                                    "50": "ed33853c-1817-402f-a9b8-4625f9b2f124",
                                    "51": "1",
                                    "52": "0",
                                    "53": "NOTHING",
                                    "54": "0",
                                    "55": "0",
                                    "56": "0",
                                    "57": "0",
                                    "58": "NULL",
                                    "59": "NULL",
                                    "60": "NULL",
                                    "61": "NULL",
                                    "62": "NULL",
                                    "63": "NULL",
                                    "64": "NULL",
                                    "65": "NULL",
                                    "66": "NULL",
                                    "67": "NULL",
                                    "68": "0",
                                    "69": "NONE",
                                    "70": "60",
                                    "71": "0",
                                    "72": "DISABLED",
                                    "73": "0",
                                    "74": "0",
                                    "75": "0",
                                    "76": "0",
                                    "77": "1",
                                    "78": "0",
                                    "79": "DATABASE_DEFAULT",
                                    "80": "ReportServerTempDB",
                                    "81": "0",
                                    "82": "0",
                                    "83": "0",
                                    "84": "0",
                                    "85": "1"
                                }
                            ]
                        },
                        "text/html": [
                            "<table>",
                            "<tr><th>name</th><th>database_id</th><th>source_database_id</th><th>owner_sid</th><th>create_date</th><th>compatibility_level</th><th>collation_name</th><th>user_access</th><th>user_access_desc</th><th>is_read_only</th><th>is_auto_close_on</th><th>is_auto_shrink_on</th><th>state</th><th>state_desc</th><th>is_in_standby</th><th>is_cleanly_shutdown</th><th>is_supplemental_logging_enabled</th><th>snapshot_isolation_state</th><th>snapshot_isolation_state_desc</th><th>is_read_committed_snapshot_on</th><th>recovery_model</th><th>recovery_model_desc</th><th>page_verify_option</th><th>page_verify_option_desc</th><th>is_auto_create_stats_on</th><th>is_auto_create_stats_incremental_on</th><th>is_auto_update_stats_on</th><th>is_auto_update_stats_async_on</th><th>is_ansi_null_default_on</th><th>is_ansi_nulls_on</th><th>is_ansi_padding_on</th><th>is_ansi_warnings_on</th><th>is_arithabort_on</th><th>is_concat_null_yields_null_on</th><th>is_numeric_roundabort_on</th><th>is_quoted_identifier_on</th><th>is_recursive_triggers_on</th><th>is_cursor_close_on_commit_on</th><th>is_local_cursor_default</th><th>is_fulltext_enabled</th><th>is_trustworthy_on</th><th>is_db_chaining_on</th><th>is_parameterization_forced</th><th>is_master_key_encrypted_by_server</th><th>is_query_store_on</th><th>is_published</th><th>is_subscribed</th><th>is_merge_published</th><th>is_distributor</th><th>is_sync_with_backup</th><th>service_broker_guid</th><th>is_broker_enabled</th><th>log_reuse_wait</th><th>log_reuse_wait_desc</th><th>is_date_correlation_on</th><th>is_cdc_enabled</th><th>is_encrypted</th><th>is_honor_broker_priority_on</th><th>replica_id</th><th>group_database_id</th><th>resource_pool_id</th><th>default_language_lcid</th><th>default_language_name</th><th>default_fulltext_language_lcid</th><th>default_fulltext_language_name</th><th>is_nested_triggers_on</th><th>is_transform_noise_words_on</th><th>two_digit_year_cutoff</th><th>containment</th><th>containment_desc</th><th>target_recovery_time_in_seconds</th><th>delayed_durability</th><th>delayed_durability_desc</th><th>is_memory_optimized_elevate_to_snapshot_on</th><th>is_federation_member</th><th>is_remote_data_archive_enabled</th><th>is_mixed_page_allocation_on</th><th>is_temporal_history_retention_enabled</th><th>catalog_collation_type</th><th>catalog_collation_type_desc</th><th>physical_database_name</th><th>is_result_set_caching_on</th><th>is_accelerated_database_recovery_on</th><th>is_tempdb_spill_to_remote_store</th><th>is_stale_page_detection_on</th><th>is_memory_optimized_enabled</th></tr>",
                            "<tr><td>master</td><td>1</td><td>NULL</td><td>0x01</td><td>2003-04-08 09:13:36.390</td><td>150</td><td>SQL_Latin1_General_CP1_CI_AS</td><td>0</td><td>MULTI_USER</td><td>0</td><td>0</td><td>0</td><td>0</td><td>ONLINE</td><td>0</td><td>0</td><td>0</td><td>1</td><td>ON</td><td>0</td><td>3</td><td>SIMPLE</td><td>2</td><td>CHECKSUM</td><td>1</td><td>0</td><td>1</td><td>0</td><td>0</td><td>0</td><td>0</td><td>0</td><td>0</td><td>0</td><td>0</td><td>0</td><td>0</td><td>0</td><td>0</td><td>0</td><td>0</td><td>1</td><td>0</td><td>0</td><td>0</td><td>0</td><td>0</td><td>0</td><td>0</td><td>0</td><td>00000000-0000-0000-0000-000000000000</td><td>0</td><td>0</td><td>NOTHING</td><td>0</td><td>0</td><td>0</td><td>0</td><td>NULL</td><td>NULL</td><td>NULL</td><td>NULL</td><td>NULL</td><td>NULL</td><td>NULL</td><td>NULL</td><td>NULL</td><td>NULL</td><td>0</td><td>NONE</td><td>0</td><td>0</td><td>DISABLED</td><td>0</td><td>0</td><td>0</td><td>1</td><td>1</td><td>0</td><td>DATABASE_DEFAULT</td><td>master</td><td>0</td><td>0</td><td>0</td><td>0</td><td>1</td></tr>",
                            "<tr><td>tempdb</td><td>2</td><td>NULL</td><td>0x01</td><td>2020-09-15 11:41:07.600</td><td>150</td><td>SQL_Latin1_General_CP1_CI_AS</td><td>0</td><td>MULTI_USER</td><td>0</td><td>0</td><td>0</td><td>0</td><td>ONLINE</td><td>0</td><td>0</td><td>0</td><td>0</td><td>OFF</td><td>0</td><td>3</td><td>SIMPLE</td><td>2</td><td>CHECKSUM</td><td>1</td><td>0</td><td>1</td><td>0</td><td>0</td><td>0</td><td>0</td><td>0</td><td>0</td><td>0</td><td>0</td><td>0</td><td>0</td><td>0</td><td>0</td><td>0</td><td>0</td><td>1</td><td>0</td><td>0</td><td>0</td><td>0</td><td>0</td><td>0</td><td>0</td><td>0</td><td>c8b9e896-b641-46e6-8b0e-6d16e7a63aaa</td><td>1</td><td>0</td><td>NOTHING</td><td>0</td><td>0</td><td>0</td><td>0</td><td>NULL</td><td>NULL</td><td>NULL</td><td>NULL</td><td>NULL</td><td>NULL</td><td>NULL</td><td>NULL</td><td>NULL</td><td>NULL</td><td>0</td><td>NONE</td><td>60</td><td>0</td><td>DISABLED</td><td>0</td><td>0</td><td>0</td><td>0</td><td>1</td><td>0</td><td>DATABASE_DEFAULT</td><td>tempdb</td><td>0</td><td>0</td><td>0</td><td>0</td><td>1</td></tr>",
                            "<tr><td>model</td><td>3</td><td>NULL</td><td>0x01</td><td>2003-04-08 09:13:36.390</td><td>150</td><td>SQL_Latin1_General_CP1_CI_AS</td><td>0</td><td>MULTI_USER</td><td>0</td><td>0</td><td>0</td><td>0</td><td>ONLINE</td><td>0</td><td>0</td><td>0</td><td>0</td><td>OFF</td><td>0</td><td>1</td><td>FULL</td><td>2</td><td>CHECKSUM</td><td>1</td><td>0</td><td>1</td><td>0</td><td>0</td><td>0</td><td>0</td><td>0</td><td>0</td><td>0</td><td>0</td><td>0</td><td>0</td><td>0</td><td>0</td><td>0</td><td>0</td><td>0</td><td>0</td><td>0</td><td>0</td><td>0</td><td>0</td><td>0</td><td>0</td><td>0</td><td>00000000-0000-0000-0000-000000000000</td><td>0</td><td>0</td><td>NOTHING</td><td>0</td><td>0</td><td>0</td><td>0</td><td>NULL</td><td>NULL</td><td>NULL</td><td>NULL</td><td>NULL</td><td>NULL</td><td>NULL</td><td>NULL</td><td>NULL</td><td>NULL</td><td>0</td><td>NONE</td><td>60</td><td>0</td><td>DISABLED</td><td>0</td><td>0</td><td>0</td><td>1</td><td>1</td><td>0</td><td>DATABASE_DEFAULT</td><td>model</td><td>0</td><td>0</td><td>0</td><td>0</td><td>1</td></tr>",
                            "<tr><td>msdb</td><td>4</td><td>NULL</td><td>0x01</td><td>2019-09-24 14:21:42.270</td><td>150</td><td>SQL_Latin1_General_CP1_CI_AS</td><td>0</td><td>MULTI_USER</td><td>0</td><td>0</td><td>0</td><td>0</td><td>ONLINE</td><td>0</td><td>0</td><td>0</td><td>1</td><td>ON</td><td>0</td><td>3</td><td>SIMPLE</td><td>2</td><td>CHECKSUM</td><td>1</td><td>0</td><td>1</td><td>0</td><td>0</td><td>0</td><td>0</td><td>0</td><td>0</td><td>0</td><td>0</td><td>0</td><td>0</td><td>0</td><td>0</td><td>1</td><td>1</td><td>1</td><td>0</td><td>0</td><td>0</td><td>0</td><td>0</td><td>0</td><td>0</td><td>0</td><td>4a99f69e-09bf-44e2-bb4c-23469a26b373</td><td>1</td><td>0</td><td>NOTHING</td><td>0</td><td>0</td><td>0</td><td>0</td><td>NULL</td><td>NULL</td><td>NULL</td><td>NULL</td><td>NULL</td><td>NULL</td><td>NULL</td><td>NULL</td><td>NULL</td><td>NULL</td><td>0</td><td>NONE</td><td>60</td><td>0</td><td>DISABLED</td><td>0</td><td>0</td><td>0</td><td>1</td><td>1</td><td>0</td><td>DATABASE_DEFAULT</td><td>msdb</td><td>0</td><td>0</td><td>0</td><td>0</td><td>1</td></tr>",
                            "<tr><td>ReportServer</td><td>5</td><td>NULL</td><td>0x010500000000000515000000E5BB5557A243F93D35EFE192E9030000</td><td>2020-09-10 09:06:29.050</td><td>150</td><td>Latin1_General_100_CI_AS_KS_WS</td><td>0</td><td>MULTI_USER</td><td>0</td><td>0</td><td>0</td><td>0</td><td>ONLINE</td><td>0</td><td>0</td><td>0</td><td>0</td><td>OFF</td><td>0</td><td>1</td><td>FULL</td><td>2</td><td>CHECKSUM</td><td>1</td><td>0</td><td>1</td><td>0</td><td>0</td><td>0</td><td>0</td><td>0</td><td>0</td><td>0</td><td>0</td><td>0</td><td>0</td><td>0</td><td>0</td><td>1</td><td>0</td><td>0</td><td>0</td><td>0</td><td>0</td><td>0</td><td>0</td><td>0</td><td>0</td><td>0</td><td>72db2f0f-b4d7-49f1-95c8-d392398251c7</td><td>1</td><td>0</td><td>NOTHING</td><td>0</td><td>0</td><td>0</td><td>0</td><td>NULL</td><td>NULL</td><td>NULL</td><td>NULL</td><td>NULL</td><td>NULL</td><td>NULL</td><td>NULL</td><td>NULL</td><td>NULL</td><td>0</td><td>NONE</td><td>60</td><td>0</td><td>DISABLED</td><td>0</td><td>0</td><td>0</td><td>0</td><td>1</td><td>0</td><td>DATABASE_DEFAULT</td><td>ReportServer</td><td>0</td><td>0</td><td>0</td><td>0</td><td>1</td></tr>",
                            "<tr><td>ReportServerTempDB</td><td>6</td><td>NULL</td><td>0x010500000000000515000000E5BB5557A243F93D35EFE192E9030000</td><td>2020-09-10 09:06:29.533</td><td>150</td><td>Latin1_General_100_CI_AS_KS_WS</td><td>0</td><td>MULTI_USER</td><td>0</td><td>0</td><td>0</td><td>0</td><td>ONLINE</td><td>0</td><td>1</td><td>0</td><td>0</td><td>OFF</td><td>0</td><td>3</td><td>SIMPLE</td><td>2</td><td>CHECKSUM</td><td>1</td><td>0</td><td>1</td><td>0</td><td>0</td><td>0</td><td>0</td><td>0</td><td>0</td><td>0</td><td>0</td><td>0</td><td>0</td><td>0</td><td>0</td><td>1</td><td>0</td><td>0</td><td>0</td><td>0</td><td>0</td><td>0</td><td>0</td><td>0</td><td>0</td><td>0</td><td>ed33853c-1817-402f-a9b8-4625f9b2f124</td><td>1</td><td>0</td><td>NOTHING</td><td>0</td><td>0</td><td>0</td><td>0</td><td>NULL</td><td>NULL</td><td>NULL</td><td>NULL</td><td>NULL</td><td>NULL</td><td>NULL</td><td>NULL</td><td>NULL</td><td>NULL</td><td>0</td><td>NONE</td><td>60</td><td>0</td><td>DISABLED</td><td>0</td><td>0</td><td>0</td><td>0</td><td>1</td><td>0</td><td>DATABASE_DEFAULT</td><td>ReportServerTempDB</td><td>0</td><td>0</td><td>0</td><td>0</td><td>1</td></tr>",
                            "</table>"
                        ]
                    }
                }
            ],
            "execution_count": 3
        },
        {
            "cell_type": "markdown",
            "source": [
                "Another important difference to notice with SQL Notebooks is that they have a rich results-grid experience."
            ],
            "metadata": {
                "azdata_cell_guid": "76728a65-62b9-4f1d-8ab6-c497a40bf151"
            }
        },
        {
            "cell_type": "code",
            "source": [
                "SELECT DB_NAME(dbid) AS DatabaseName\r\n",
                "        --, name AS LogicalName\r\n",
                "        , CONVERT(BIGINT, size) * 8 AS SizeInKB\r\n",
                "        --, filename AS DBFileName\r\n",
                "  FROM master..sysaltfiles\r\n",
                " WHERE dbid != 32767"
            ],
            "metadata": {
                "azdata_cell_guid": "a92289e3-cf75-4c6d-9013-76931efbe7c1"
            },
            "outputs": [
                {
                    "output_type": "display_data",
                    "data": {
                        "text/html": "(58 rows affected)"
                    },
                    "metadata": {}
                },
                {
                    "output_type": "display_data",
                    "data": {
                        "text/html": "Total execution time: 00:00:00.023"
                    },
                    "metadata": {}
                },
                {
                    "output_type": "execute_result",
                    "metadata": {
                        "azdata_chartOptions": {
                            "type": "bar",
                            "dataDirection": "horizontal",
                            "columnsAsLabels": true,
                            "labelFirstColumn": false,
                            "legendPosition": "top"
                        }
                    },
                    "execution_count": 8,
                    "data": {
                        "application/vnd.dataresource+json": {
                            "schema": {
                                "fields": [
                                    {
                                        "name": "DatabaseName"
                                    },
                                    {
                                        "name": "SizeInKB"
                                    }
                                ]
                            },
                            "data": [
                                {
                                    "0": "master",
                                    "1": "4096"
                                },
                                {
                                    "0": "master",
                                    "1": "8384"
                                },
                                {
                                    "0": "tempdb",
                                    "1": "8192"
                                },
                                {
                                    "0": "tempdb",
                                    "1": "8192"
                                },
                                {
                                    "0": "tempdb",
                                    "1": "8192"
                                },
                                {
                                    "0": "tempdb",
                                    "1": "8192"
                                },
                                {
                                    "0": "tempdb",
                                    "1": "8192"
                                },
                                {
                                    "0": "tempdb",
                                    "1": "8192"
                                },
                                {
                                    "0": "tempdb",
                                    "1": "8192"
                                },
                                {
                                    "0": "tempdb",
                                    "1": "8192"
                                },
                                {
                                    "0": "tempdb",
                                    "1": "8192"
                                },
                                {
                                    "0": "model",
                                    "1": "8192"
                                },
                                {
                                    "0": "model",
                                    "1": "73728"
                                },
                                {
                                    "0": "msdb",
                                    "1": "22144"
                                },
                                {
                                    "0": "msdb",
                                    "1": "29504"
                                },
                                {
                                    "0": "AdventureWorks2017",
                                    "1": "270336"
                                },
                                {
                                    "0": "AdventureWorks2017",
                                    "1": "73728"
                                },
                                {
                                    "0": "WideWorldImporters",
                                    "1": "1048576"
                                },
                                {
                                    "0": "WideWorldImporters",
                                    "1": "4231168"
                                },
                                {
                                    "0": "WideWorldImporters",
                                    "1": "2097152"
                                },
                                {
                                    "0": "AirStats",
                                    "1": "327680"
                                },
                                {
                                    "0": "AirStats",
                                    "1": "1506760"
                                },
                                {
                                    "0": "AirStats",
                                    "1": "22036480"
                                },
                                {
                                    "0": "TSQLV3",
                                    "1": "8192"
                                },
                                {
                                    "0": "TSQLV3",
                                    "1": "139264"
                                },
                                {
                                    "0": "PerformanceV3",
                                    "1": "1056768"
                                },
                                {
                                    "0": "PerformanceV3",
                                    "1": "663552"
                                },
                                {
                                    "0": "BlankDB",
                                    "1": "21831680"
                                },
                                {
                                    "0": "BlankDB",
                                    "1": "23601152"
                                },
                                {
                                    "0": "PBIRS",
                                    "1": "73728"
                                },
                                {
                                    "0": "PBIRS",
                                    "1": "204800"
                                },
                                {
                                    "0": "PBIRSTempDB",
                                    "1": "8192"
                                },
                                {
                                    "0": "PBIRSTempDB",
                                    "1": "8192"
                                },
                                {
                                    "0": "SSISDB",
                                    "1": "40960"
                                },
                                {
                                    "0": "SSISDB",
                                    "1": "10923712"
                                },
                                {
                                    "0": "Cleansing",
                                    "1": "8192"
                                },
                                {
                                    "0": "Cleansing",
                                    "1": "139264"
                                },
                                {
                                    "0": "Logging",
                                    "1": "8192"
                                },
                                {
                                    "0": "Logging",
                                    "1": "139264"
                                },
                                {
                                    "0": "SandBox",
                                    "1": "8192"
                                },
                                {
                                    "0": "SandBox",
                                    "1": "139264"
                                },
                                {
                                    "0": "PopulatedDB",
                                    "1": "7675904"
                                },
                                {
                                    "0": "PopulatedDB",
                                    "1": "8265728"
                                },
                                {
                                    "0": "AdventureWorksDW2017",
                                    "1": "139264"
                                },
                                {
                                    "0": "AdventureWorksDW2017",
                                    "1": "73728"
                                },
                                {
                                    "0": "BlankDW",
                                    "1": "73728"
                                },
                                {
                                    "0": "BlankDW",
                                    "1": "73728"
                                },
                                {
                                    "0": "PBIReportServer",
                                    "1": "73728"
                                },
                                {
                                    "0": "PBIReportServer",
                                    "1": "73728"
                                },
                                {
                                    "0": "PBIReportServerTempDB",
                                    "1": "8192"
                                },
                                {
                                    "0": "PBIReportServerTempDB",
                                    "1": "8192"
                                },
                                {
                                    "0": "WideWorldImportersDW",
                                    "1": "2097152"
                                },
                                {
                                    "0": "WideWorldImportersDW",
                                    "1": "1085440"
                                },
                                {
                                    "0": "WideWorldImportersDW",
                                    "1": "2097152"
                                },
                                {
                                    "0": "AdventureBLANK",
                                    "1": "8192"
                                },
                                {
                                    "0": "AdventureBLANK",
                                    "1": "73728"
                                },
                                {
                                    "0": "SQLAssessmentDemo",
                                    "1": "8192"
                                },
                                {
                                    "0": "SQLAssessmentDemo",
                                    "1": "73728"
                                }
                            ]
                        },
                        "text/html": [
                            "<table>",
                            "<tr><th>DatabaseName</th><th>SizeInKB</th></tr>",
                            "<tr><td>master</td><td>4096</td></tr>",
                            "<tr><td>master</td><td>8384</td></tr>",
                            "<tr><td>tempdb</td><td>8192</td></tr>",
                            "<tr><td>tempdb</td><td>8192</td></tr>",
                            "<tr><td>tempdb</td><td>8192</td></tr>",
                            "<tr><td>tempdb</td><td>8192</td></tr>",
                            "<tr><td>tempdb</td><td>8192</td></tr>",
                            "<tr><td>tempdb</td><td>8192</td></tr>",
                            "<tr><td>tempdb</td><td>8192</td></tr>",
                            "<tr><td>tempdb</td><td>8192</td></tr>",
                            "<tr><td>tempdb</td><td>8192</td></tr>",
                            "<tr><td>model</td><td>8192</td></tr>",
                            "<tr><td>model</td><td>73728</td></tr>",
                            "<tr><td>msdb</td><td>22144</td></tr>",
                            "<tr><td>msdb</td><td>29504</td></tr>",
                            "<tr><td>AdventureWorks2017</td><td>270336</td></tr>",
                            "<tr><td>AdventureWorks2017</td><td>73728</td></tr>",
                            "<tr><td>WideWorldImporters</td><td>1048576</td></tr>",
                            "<tr><td>WideWorldImporters</td><td>4231168</td></tr>",
                            "<tr><td>WideWorldImporters</td><td>2097152</td></tr>",
                            "<tr><td>AirStats</td><td>327680</td></tr>",
                            "<tr><td>AirStats</td><td>1506760</td></tr>",
                            "<tr><td>AirStats</td><td>22036480</td></tr>",
                            "<tr><td>TSQLV3</td><td>8192</td></tr>",
                            "<tr><td>TSQLV3</td><td>139264</td></tr>",
                            "<tr><td>PerformanceV3</td><td>1056768</td></tr>",
                            "<tr><td>PerformanceV3</td><td>663552</td></tr>",
                            "<tr><td>BlankDB</td><td>21831680</td></tr>",
                            "<tr><td>BlankDB</td><td>23601152</td></tr>",
                            "<tr><td>PBIRS</td><td>73728</td></tr>",
                            "<tr><td>PBIRS</td><td>204800</td></tr>",
                            "<tr><td>PBIRSTempDB</td><td>8192</td></tr>",
                            "<tr><td>PBIRSTempDB</td><td>8192</td></tr>",
                            "<tr><td>SSISDB</td><td>40960</td></tr>",
                            "<tr><td>SSISDB</td><td>10923712</td></tr>",
                            "<tr><td>Cleansing</td><td>8192</td></tr>",
                            "<tr><td>Cleansing</td><td>139264</td></tr>",
                            "<tr><td>Logging</td><td>8192</td></tr>",
                            "<tr><td>Logging</td><td>139264</td></tr>",
                            "<tr><td>SandBox</td><td>8192</td></tr>",
                            "<tr><td>SandBox</td><td>139264</td></tr>",
                            "<tr><td>PopulatedDB</td><td>7675904</td></tr>",
                            "<tr><td>PopulatedDB</td><td>8265728</td></tr>",
                            "<tr><td>AdventureWorksDW2017</td><td>139264</td></tr>",
                            "<tr><td>AdventureWorksDW2017</td><td>73728</td></tr>",
                            "<tr><td>BlankDW</td><td>73728</td></tr>",
                            "<tr><td>BlankDW</td><td>73728</td></tr>",
                            "<tr><td>PBIReportServer</td><td>73728</td></tr>",
                            "<tr><td>PBIReportServer</td><td>73728</td></tr>",
                            "<tr><td>PBIReportServerTempDB</td><td>8192</td></tr>",
                            "<tr><td>PBIReportServerTempDB</td><td>8192</td></tr>",
                            "<tr><td>WideWorldImportersDW</td><td>2097152</td></tr>",
                            "<tr><td>WideWorldImportersDW</td><td>1085440</td></tr>",
                            "<tr><td>WideWorldImportersDW</td><td>2097152</td></tr>",
                            "<tr><td>AdventureBLANK</td><td>8192</td></tr>",
                            "<tr><td>AdventureBLANK</td><td>73728</td></tr>",
                            "<tr><td>SQLAssessmentDemo</td><td>8192</td></tr>",
                            "<tr><td>SQLAssessmentDemo</td><td>73728</td></tr>",
                            "</table>"
                        ]
                    }
                }
            ],
            "execution_count": 8
        },
        {
            "cell_type": "markdown",
            "source": [
                "Hopefully, someone can write a PowerShell function so that we can pipe PowerShell results to this rich results-grid experience.\n",
                "\n",
                "😉"
            ],
            "metadata": {
                "azdata_cell_guid": "bdc561ca-1b8c-43ca-b02c-1a3684a6caec"
            }
        }
    ]
}